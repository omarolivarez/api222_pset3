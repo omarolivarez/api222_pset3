{
 "cells": [
  {
   "cell_type": "markdown",
   "id": "69beeb84",
   "metadata": {},
   "source": [
    "**Author:** Omar Olivarez"
   ]
  },
  {
   "cell_type": "markdown",
   "id": "34ffa067",
   "metadata": {},
   "source": [
    "## Conceptual questions {-}"
   ]
  },
  {
   "cell_type": "markdown",
   "id": "e426bff0",
   "metadata": {},
   "source": [
    "### 1a {-}"
   ]
  },
  {
   "cell_type": "markdown",
   "id": "8e576b0b",
   "metadata": {},
   "source": [
    "**Methods where you should scale variables:** \n",
    "\n",
    "**Methods where you should not (don't need to) scale variables**:   \n",
    "\n"
   ]
  },
  {
   "cell_type": "markdown",
   "id": "815c3553",
   "metadata": {},
   "source": [
    "### 1b {-}"
   ]
  },
  {
   "cell_type": "markdown",
   "id": "ba99c9be",
   "metadata": {},
   "source": [
    "### 1c {-}"
   ]
  },
  {
   "cell_type": "markdown",
   "id": "75e8e41e",
   "metadata": {},
   "source": [
    "### 2 {-}"
   ]
  },
  {
   "cell_type": "markdown",
   "id": "a4479935",
   "metadata": {},
   "source": [
    "### 3 {-}"
   ]
  },
  {
   "cell_type": "markdown",
   "id": "598fe65b",
   "metadata": {},
   "source": [
    "### 4 {-}"
   ]
  },
  {
   "cell_type": "markdown",
   "id": "f57d49e1",
   "metadata": {},
   "source": [
    "### 5 {-}"
   ]
  },
  {
   "cell_type": "markdown",
   "id": "330fff9f",
   "metadata": {},
   "source": [
    "### 6a {-}"
   ]
  },
  {
   "cell_type": "markdown",
   "id": "d6ced95c",
   "metadata": {},
   "source": [
    "### 6b {-}"
   ]
  },
  {
   "cell_type": "markdown",
   "id": "72e25452",
   "metadata": {},
   "source": [
    "### 6c {-}"
   ]
  },
  {
   "cell_type": "markdown",
   "id": "ea4e5722",
   "metadata": {},
   "source": [
    "### 6d {-}"
   ]
  },
  {
   "cell_type": "markdown",
   "id": "cadcd67e",
   "metadata": {},
   "source": [
    "## Data questions {-}"
   ]
  },
  {
   "cell_type": "markdown",
   "id": "4f8f401e",
   "metadata": {},
   "source": [
    "### 1a {-}"
   ]
  },
  {
   "cell_type": "markdown",
   "id": "f4db7c01",
   "metadata": {},
   "source": [
    "### 1b {-}"
   ]
  },
  {
   "cell_type": "markdown",
   "id": "661994e6",
   "metadata": {},
   "source": [
    "### 1c {-}"
   ]
  },
  {
   "cell_type": "markdown",
   "id": "1280e75b",
   "metadata": {},
   "source": [
    "### 1d {-}"
   ]
  },
  {
   "cell_type": "markdown",
   "id": "4e572ba1",
   "metadata": {},
   "source": [
    "### 2a {-}"
   ]
  },
  {
   "cell_type": "markdown",
   "id": "29c7d4a8",
   "metadata": {},
   "source": [
    "### 2b {-}"
   ]
  },
  {
   "cell_type": "markdown",
   "id": "b071e5cf",
   "metadata": {},
   "source": [
    "### 2c {-}"
   ]
  },
  {
   "cell_type": "markdown",
   "id": "0edc0d9b",
   "metadata": {},
   "source": [
    "### 3a {-}"
   ]
  },
  {
   "cell_type": "markdown",
   "id": "fdcb618a",
   "metadata": {},
   "source": [
    "### 3b {-}"
   ]
  },
  {
   "cell_type": "markdown",
   "id": "aaa6db8e",
   "metadata": {},
   "source": [
    "### 3c {-}"
   ]
  },
  {
   "cell_type": "markdown",
   "id": "a738b682",
   "metadata": {},
   "source": [
    "### 4a {-}"
   ]
  },
  {
   "cell_type": "markdown",
   "id": "fe7a073f",
   "metadata": {},
   "source": [
    "### 4b {-}"
   ]
  },
  {
   "cell_type": "markdown",
   "id": "62563968",
   "metadata": {},
   "source": [
    "### 4c {-}"
   ]
  },
  {
   "cell_type": "markdown",
   "id": "126eea04",
   "metadata": {},
   "source": [
    "### 5 {-}"
   ]
  },
  {
   "cell_type": "code",
   "execution_count": null,
   "id": "cb34a2ed",
   "metadata": {},
   "outputs": [],
   "source": []
  },
  {
   "cell_type": "code",
   "execution_count": null,
   "id": "61d2f5de",
   "metadata": {},
   "outputs": [],
   "source": []
  },
  {
   "cell_type": "code",
   "execution_count": null,
   "id": "202ea8e2",
   "metadata": {},
   "outputs": [],
   "source": []
  },
  {
   "cell_type": "code",
   "execution_count": null,
   "id": "a3370b07",
   "metadata": {},
   "outputs": [],
   "source": []
  }
 ],
 "metadata": {
  "kernelspec": {
   "display_name": "R",
   "language": "R",
   "name": "ir"
  },
  "language_info": {
   "codemirror_mode": "r",
   "file_extension": ".r",
   "mimetype": "text/x-r-source",
   "name": "R",
   "pygments_lexer": "r",
   "version": "4.1.1"
  }
 },
 "nbformat": 4,
 "nbformat_minor": 5
}
